{
  "nbformat": 4,
  "nbformat_minor": 0,
  "metadata": {
    "colab": {
      "name": "day 2 session 1 Exercises.ipynb",
      "provenance": [],
      "private_outputs": true,
      "authorship_tag": "ABX9TyO/ljHzvBb9W5DMsR55PJSl",
      "include_colab_link": true
    },
    "kernelspec": {
      "name": "python3",
      "display_name": "Python 3"
    }
  },
  "cells": [
    {
      "cell_type": "markdown",
      "metadata": {
        "id": "view-in-github",
        "colab_type": "text"
      },
      "source": [
        "<a href=\"https://colab.research.google.com/github/alvas-education-foundation/Jagadeesha-036/blob/master/PYTHON%20WORKSHOP%20DAY%202/day_2_session_1_Exercises.ipynb\" target=\"_parent\"><img src=\"https://colab.research.google.com/assets/colab-badge.svg\" alt=\"Open In Colab\"/></a>"
      ]
    },
    {
      "cell_type": "code",
      "metadata": {
        "id": "aIkELhVs2K9T",
        "colab_type": "code",
        "colab": {}
      },
      "source": [
        "#Print multiples of 3 upto 200 using a list\n",
        "a=[]\n",
        "c=1\n",
        "for i in range(0,200):\n",
        "    m=3*c\n",
        "    if m<200:\n",
        "        a.append(m)\n",
        "        c=c+1\n",
        "print(a,end=\"\")"
      ],
      "execution_count": null,
      "outputs": []
    },
    {
      "cell_type": "code",
      "metadata": {
        "id": "8gECKcsa2bBn",
        "colab_type": "code",
        "colab": {}
      },
      "source": [
        "#print the nos only divisable by 5 and 7 between 1000 and 2000 using a list( both inclusive)\n",
        "a=[]\n",
        "b=[]\n",
        "for i in range(1000,2000):\n",
        "    if i%5==0:\n",
        "        a.append(i)\n",
        "    if i%7==0:\n",
        "        b.append(i)\n",
        "print(\"The numbers which are divisible by 5 are:\",a,end=\"\")\n",
        "print(\"\\n\")\n",
        "print(\"The numbers which are divisible by 7 are:\",b,end=\"\")"
      ],
      "execution_count": null,
      "outputs": []
    },
    {
      "cell_type": "code",
      "metadata": {
        "id": "g_DxO2NN246L",
        "colab_type": "code",
        "colab": {}
      },
      "source": [
        "#Add the n number of names in a list and print them alphabetically and reverse alphabetically.\n",
        "my_str = input(\"Enter a string: \")\n",
        "\n",
        "# breakdown the string into a list of words\n",
        "words = my_str.split()\n",
        "\n",
        "# sort the list\n",
        "words.sort()\n",
        "\n",
        "# display the sorted words\n",
        "\n",
        "print(\"The sorted words are:\")\n",
        "for word in words:\n",
        "   print(word)\n",
        "\n",
        "#reverse the words in list\n",
        "words.reverse()\n",
        "\n",
        "#display the reversed words\n",
        "print(\"The reverse words are:\")\n",
        "for wor in words:\n",
        "   print(wor)"
      ],
      "execution_count": null,
      "outputs": []
    },
    {
      "cell_type": "code",
      "metadata": {
        "id": "MAbtJE0X3DTH",
        "colab_type": "code",
        "colab": {}
      },
      "source": [
        "#Print perfect squares and divisible by 5 between 500 and 1000( (both inclusive) using list\n",
        "a=[]\n",
        "b=[]\n",
        "c=[]\n",
        "import math\n",
        "for i in range(500,1000):\n",
        "    sr = math.sqrt(i)\n",
        "    if sr-math.floor(sr)==0:\n",
        "        a.append(i)\n",
        "        b.append(sr)\n",
        "    if i%5==0:\n",
        "        c.append(i)\n",
        "print(\"Perfect squares in the given range are:\",a,end=\" \")\n",
        "print(\"\\n\")\n",
        "print(\"Squares of above numbers are:\",b,end=\" \")\n",
        "print(\"\\n\")\n",
        "print(\"Numbers which are divisible by 5 are:\",c,end=\" \")\n"
      ],
      "execution_count": null,
      "outputs": []
    },
    {
      "cell_type": "code",
      "metadata": {
        "id": "8z9ZnLW-3Q8E",
        "colab_type": "code",
        "colab": {}
      },
      "source": [
        "#Calculate the Average of the numbers in a List by getting the elements of list from keyboard\n",
        "\n",
        "n=int(input(\"Enter the number of elements to be inserted: \"))\n",
        "a=[]\n",
        "for i in range(0,n):\n",
        "    p=int(input(\"Enter element: \"))\n",
        "    a.append(p)\n",
        "avg=sum(a)/n\n",
        "print(\"Average of elements in the list\",round(avg,3))"
      ],
      "execution_count": null,
      "outputs": []
    },
    {
      "cell_type": "code",
      "metadata": {
        "id": "WxYpDsa_3YX-",
        "colab_type": "code",
        "colab": {}
      },
      "source": [
        "#Python Program to Create a List of Tuples with the First Element as the Number and Second Element as the Square of the Number\n",
        "t = [ ]\n",
        "n=int(input(\"enter the number of tuples:\"))\n",
        "for i in range(0,n):\n",
        "    e=int(input(\"Enter the number:\"))\n",
        "    t.append((e, e*e))\n",
        "print(t)"
      ],
      "execution_count": null,
      "outputs": []
    },
    {
      "cell_type": "code",
      "metadata": {
        "id": "1VWBHVIs34N1",
        "colab_type": "code",
        "colab": {}
      },
      "source": [
        "#Write python program to have a list of words to sort them from shortest to longest using list of tuples\n",
        "def Sort_Tuple(tup):  \n",
        "    tup.sort(key = lambda x: x[1])  \n",
        "    return tup  \n",
        "tup = [('aa', 58), ('bb', 12), ('cc', 35), ('dd', 100)]  \n",
        "print(Sort_Tuple(tup))"
      ],
      "execution_count": null,
      "outputs": []
    },
    {
      "cell_type": "code",
      "metadata": {
        "id": "W1GF2Hlx4M-P",
        "colab_type": "code",
        "colab": {}
      },
      "source": [
        "#Write python program to get a list of tuples of Rollno,Name for 5 students through keyboard and sort them Rollno wise ascending order\n",
        "def Sort_Tuple(tup):  \n",
        "    lst = len(tup)  \n",
        "    for i in range(0, lst):  \n",
        "        for j in range(0, lst-i-1):  \n",
        "            if (tup[j][0] > tup[j + 1][0]):  \n",
        "                temp = tup[j]  \n",
        "                tup[j]= tup[j + 1]  \n",
        "                tup[j + 1]= temp \n",
        "    return tup\n",
        "tup =[]\n",
        "num = int(input(\"Number of students:\"))\n",
        "for i in range(0,num):\n",
        "     name = input(\" Name of student: \")\n",
        "     rollnum = input(\"Roll num of the student:\")\n",
        "     tup.append((name,rollnum))\n",
        "print(Sort_Tuple(tup))"
      ],
      "execution_count": null,
      "outputs": []
    },
    {
      "cell_type": "code",
      "metadata": {
        "id": "0rG24mnc4Vov",
        "colab_type": "code",
        "colab": {}
      },
      "source": [
        "#Write python program to get a list of tuples of Rollno,Name for 5 students through keyboard and sort them by Name wise descending order\n",
        "def Sort_Tuple(tup):  \n",
        "    lst = len(tup)  \n",
        "    for i in range(0, lst):  \n",
        "        for j in range(0, lst-i-1):  \n",
        "            if (tup[j][0] < tup[j + 1][0]):  \n",
        "                temp = tup[j]  \n",
        "                tup[j]= tup[j + 1]  \n",
        "                tup[j + 1]= temp \n",
        "    return tup\n",
        "tup =[]\n",
        "num = int(input(\"Number of students:\"))\n",
        "for i in range(0,num):\n",
        "     name = input(\" Name of student: \")\n",
        "     rollnum = input(\"Roll num of the student:\")\n",
        "     tup.append((name,rollnum))\n",
        "print(Sort_Tuple(tup))"
      ],
      "execution_count": null,
      "outputs": []
    }
  ]
}