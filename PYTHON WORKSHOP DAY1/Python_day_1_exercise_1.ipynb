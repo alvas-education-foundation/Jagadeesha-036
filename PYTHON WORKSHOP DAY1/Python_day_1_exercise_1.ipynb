{
  "nbformat": 4,
  "nbformat_minor": 0,
  "metadata": {
    "colab": {
      "name": "Python day 1 exercise 1.ipynb",
      "provenance": [],
      "private_outputs": true,
      "collapsed_sections": [],
      "authorship_tag": "ABX9TyMJ01DTvkUYGdLajkxVMGcu",
      "include_colab_link": true
    },
    "kernelspec": {
      "name": "python3",
      "display_name": "Python 3"
    }
  },
  "cells": [
    {
      "cell_type": "markdown",
      "metadata": {
        "id": "view-in-github",
        "colab_type": "text"
      },
      "source": [
        "<a href=\"https://colab.research.google.com/github/alvas-education-foundation/Jagadeesha-036/blob/master/PYTHON%20WORKSHOP%20DAY1/Python_day_1_exercise_1.ipynb\" target=\"_parent\"><img src=\"https://colab.research.google.com/assets/colab-badge.svg\" alt=\"Open In Colab\"/></a>"
      ]
    },
    {
      "cell_type": "code",
      "metadata": {
        "id": "In7D_fv03Xc8",
        "colab_type": "code",
        "colab": {}
      },
      "source": [
        "def compound_interest(principle, rate, time): \n",
        "  \n",
        "    # Calculates compound interest  \n",
        "    Amount = principle * (pow((1 + rate / 100), time)) \n",
        "    CI = Amount - principle \n",
        "    print(\"Compound interest is\", CI) \n",
        "  \n",
        "# Driver Code  \n",
        "compound_interest(10000, 10.25, 5) "
      ],
      "execution_count": null,
      "outputs": []
    },
    {
      "cell_type": "code",
      "metadata": {
        "id": "Bref2M0f3mK6",
        "colab_type": "code",
        "colab": {}
      },
      "source": [
        "celsius = float(input(\"Enter temperature in celsius: \"))\n",
        "fahrenheit = (celsius * 9/5) + 32\n",
        "print('%.2f Celsius is: %0.2f Fahrenheit' %(celsius, fahrenheit))"
      ],
      "execution_count": null,
      "outputs": []
    },
    {
      "cell_type": "code",
      "metadata": {
        "id": "a9ekjH-O3pNr",
        "colab_type": "code",
        "colab": {}
      },
      "source": [
        "a = int(input('Enter first number: '))\n",
        "b = int(input('Enter second number: '))\n",
        "if a>b:\n",
        "\tprint('{0} is greater than {1}'.format(a,b))\n",
        "elif b>a:\n",
        "\tprint(\"{0} is greater than {1}\".format(b,a))\n",
        "else:\n",
        "  print(\"Both the numbers are equal\")"
      ],
      "execution_count": null,
      "outputs": []
    },
    {
      "cell_type": "code",
      "metadata": {
        "id": "lmLR9a3T3sg6",
        "colab_type": "code",
        "colab": {}
      },
      "source": [
        "#Write a program for finding surface areas of cylinder and cone (2*PI*r*r*h, 1/3*PI*r*r*h) using function.\n",
        "\n",
        "# Importing Math library for value Of PI \n",
        "import math \n",
        "pi = math.pi \n",
        "\n",
        "# Function to calculate Surface Area of Cylinder \n",
        "def surfacearea1(r, h): \n",
        "\treturn 2 * pi * r * r * h \n",
        "\n",
        "# Function To Calculate Surface Area of Cone \n",
        "def surfacearea2(r, h): \n",
        "\treturn (1 / 3) * pi * r * r * h \n",
        "\n",
        "\n",
        "radius = float(input(\"Enter the radius \"))\n",
        "height = float(input(\"Enter the height\"))\n",
        "\n",
        "print( \"Surface Area Of Cylinder : \", surfacearea1(radius, height) ) \n",
        "print( \"Surface Area Of Cone : \", surfacearea2(radius, height) )"
      ],
      "execution_count": null,
      "outputs": []
    },
    {
      "cell_type": "code",
      "metadata": {
        "id": "0v_0O49S3u42",
        "colab_type": "code",
        "colab": {}
      },
      "source": [
        "#Find the greatest of four nos ( using ‘and’ operator)   using function.\n",
        "n1 = input(\"Enter the first number \")\n",
        "n2 = input(\"Enter the second number \")\n",
        "n3 = input(\"Enter the third number \")\n",
        "n4 = input(\"Enter the fourth number \")\n",
        "  \n",
        "mx = (n1 if (n1 > n2 and n1 > n2 and n1 > n4)  \n",
        "         else (n2 if (n2 > n3 and n3 > n4)  \n",
        "         else (n3 if n3 > n4 else n4))) \n",
        "  \n",
        "# str() function is used to convert  \n",
        "# integer to string, it is required  \n",
        "# as we are concatenating integers \n",
        "# with string \n",
        "print(\"Largest number among \" + str(n1) + \", \" + str(n2) + \", \" + str(n3) + \" and \" + str(n4) + \" is \" + str(mx))"
      ],
      "execution_count": null,
      "outputs": []
    },
    {
      "cell_type": "code",
      "metadata": {
        "id": "qSX23qWH31fG",
        "colab_type": "code",
        "colab": {}
      },
      "source": [
        "#Write a  menu program to perform the operations ( ODDorEven, Factorial, ODDNoUptoN, PrimeUptoN ) using functions for two nos with  menu choice\n",
        "loop = 1 # 1 means loop; anything else means don't loop.\n",
        "choice = 0 # This variable holds the user's choice in the menu\n",
        "\n",
        "def oddoreven():\n",
        "    num = int(input(\"Enter a number: \"))\n",
        "    if (num % 2) == 0:\n",
        "      print(\"{0} is Even\".format(num))\n",
        "    else:\n",
        "      print(\"{0} is Odd\".format(num)) \n",
        "\n",
        "\n",
        "def factorial():\n",
        "  num = int(input(\"enter the number\"))\n",
        "  factorial = 1\n",
        "  if num < 0:\n",
        "    print(\"Sorry, factorial does not exist for negative numbers\")\n",
        "  elif num == 0:\n",
        "    print(\"The factorial of 0 is 1\")\n",
        "  else:\n",
        "    for i in range(1,num + 1):\n",
        "      factorial = factorial*i\n",
        "      print(\"The factorial of\",num,\"is\",factorial)\n",
        "\n",
        "\n",
        "def oddtilln():\n",
        "    maximum = int(input(\" Please Enter any Maximum Value : \"))\n",
        "    for number in range(1, maximum + 1):\n",
        "     if(number % 2 != 0):\n",
        "        print(\"{0}\".format(number))\n",
        "\n",
        "\n",
        "def primetilln():\n",
        "    upto = int(input(\"Find prime numbers upto : \"))\n",
        "\n",
        "    print(\"\\nAll prime numbers upto\", upto, \"are : \")\n",
        "\n",
        "    for num in range(2, upto + 1):\n",
        "\n",
        "      i = 2\n",
        "\n",
        "      for i in range(2, num):\n",
        "        if(num % i == 0):\n",
        "            i = num\n",
        "            break;\n",
        "\n",
        "    # If the number is prime then print it.\n",
        "      if(i != num):\n",
        "        print(num, end=\" \")\n",
        "\n",
        "    print(\"\\n\")\n",
        "\n",
        "while loop == 1:\n",
        "    # Print what options you have\n",
        "    print (\"Welcome to math program\")\n",
        "    print (\"your options are:\")\n",
        "    print (\" \")\n",
        "    print(\"1) ODD or Even\")\n",
        "    print(\"2) Factorial\")\n",
        "    print(\"3) Odd number upto n \")\n",
        "    print(\"4) Prime number upto n \")\n",
        "    print(\"5) Quit the program\")\n",
        "    print(\" \")\n",
        "    try:\n",
        "        choice = int(input(\"Choose your option: \"))\n",
        "    except:\n",
        "        print('please enter a valid number for option')\n",
        "    print(\" \")\n",
        "    print(\" \")\n",
        "    if choice == 1:\n",
        "        oddoreven()\n",
        "\n",
        "    elif choice == 2:\n",
        "        factorial() \n",
        "  \n",
        "    elif choice == 3:\n",
        "        oddtilln()\n",
        "\n",
        "    elif choice == 4:\n",
        "         primetilln()\n",
        "        \n",
        "    elif choice == 5:\n",
        "        loop = 0\n",
        "     \n",
        "    else:\n",
        "        print(\"please choice a valid option from 1 to 5\")\n",
        "        choice=0\n",
        "print (\"Thank-you for using math program\")"
      ],
      "execution_count": null,
      "outputs": []
    },
    {
      "cell_type": "code",
      "metadata": {
        "id": "KDBB67pd32pq",
        "colab_type": "code",
        "colab": {}
      },
      "source": [
        ""
      ],
      "execution_count": null,
      "outputs": []
    }
  ]
}