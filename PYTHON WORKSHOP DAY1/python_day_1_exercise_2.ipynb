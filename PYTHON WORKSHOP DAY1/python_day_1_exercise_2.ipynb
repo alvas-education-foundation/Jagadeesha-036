{
  "nbformat": 4,
  "nbformat_minor": 0,
  "metadata": {
    "colab": {
      "name": "python day 1 exercise 2.ipynb",
      "provenance": [],
      "private_outputs": true,
      "collapsed_sections": [],
      "authorship_tag": "ABX9TyMrUGrtTnK8CDRXenPKGhtv",
      "include_colab_link": true
    },
    "kernelspec": {
      "name": "python3",
      "display_name": "Python 3"
    }
  },
  "cells": [
    {
      "cell_type": "markdown",
      "metadata": {
        "id": "view-in-github",
        "colab_type": "text"
      },
      "source": [
        "<a href=\"https://colab.research.google.com/github/alvas-education-foundation/Jagadeesha-036/blob/master/PYTHON%20WORKSHOP%20DAY1/python_day_1_exercise_2.ipynb\" target=\"_parent\"><img src=\"https://colab.research.google.com/assets/colab-badge.svg\" alt=\"Open In Colab\"/></a>"
      ]
    },
    {
      "cell_type": "code",
      "metadata": {
        "id": "hxM9q0Hm6GEX",
        "colab_type": "code",
        "colab": {}
      },
      "source": [
        "#1. Program to print the triangle :\n",
        "n=int(input(\"Enter the Number \"));\n",
        "for i in range(n+1):\n",
        "    for j in range(i):\n",
        "        print (j+i ,end=\" \")\n",
        "    print('')"
      ],
      "execution_count": null,
      "outputs": []
    },
    {
      "cell_type": "code",
      "metadata": {
        "id": "yCBknIcz7bCn",
        "colab_type": "code",
        "colab": {}
      },
      "source": [
        "#Star Pattern for n=4\n",
        "def pypart(n): \n",
        "    for i in range(0, n): \n",
        "        for j in range(0, i+1): \n",
        "          \n",
        "            print(\"* \",end=\"\") \n",
        "    \n",
        "        print(\"\\r\") \n",
        "  \n",
        "n = int(input(\"Enter the number: \"))\n",
        "pypart(n)"
      ],
      "execution_count": null,
      "outputs": []
    },
    {
      "cell_type": "code",
      "metadata": {
        "id": "LqWiXogM7hbK",
        "colab_type": "code",
        "colab": {}
      },
      "source": [
        "#3rd question\n",
        "n=int(input(\"Enter the Number \"));\n",
        "for i in range(n+1):\n",
        "    for j in range(i,0,-1 ):\n",
        "        print (n-j+1 ,end=\" \")\n",
        "    print('')"
      ],
      "execution_count": null,
      "outputs": []
    },
    {
      "cell_type": "code",
      "metadata": {
        "id": "UJcCUGcu71Ad",
        "colab_type": "code",
        "colab": {}
      },
      "source": [
        "#4th question\n",
        "number = int(input(\"Enter the number: \"))\n",
        "for i in range(0, number + 1):\n",
        "    for j in range(number - i, 0, -1):\n",
        "        print(j, end=' ')\n",
        "    print()"
      ],
      "execution_count": null,
      "outputs": []
    },
    {
      "cell_type": "code",
      "metadata": {
        "id": "YaRvNXx576FU",
        "colab_type": "code",
        "colab": {}
      },
      "source": [
        "#5th question\n",
        "n=int(input(\"Enter the Number:\"));\n",
        "for i in range(0,n+1,1):\n",
        "    print(\"\")\n",
        "    for j in range(i+1,n+1,1):\n",
        "        print(j,end=\" \")\n",
        "    \n",
        "for i in range(1,n):\n",
        "    for j in range(i+1,0,-1):\n",
        "        print(n-j+1,end=\" \")\n",
        "    print('')"
      ],
      "execution_count": null,
      "outputs": []
    },
    {
      "cell_type": "code",
      "metadata": {
        "id": "uA2_D92j8C0x",
        "colab_type": "code",
        "colab": {}
      },
      "source": [
        "#6th question\n",
        "str = input(\"Enter a string: \")\n",
        "counter = 0\n",
        "for s in str:\n",
        "      counter = counter+1\n",
        "print(\"Length of the input string is:\", counter)"
      ],
      "execution_count": null,
      "outputs": []
    },
    {
      "cell_type": "code",
      "metadata": {
        "id": "BbJ2IoQr8L3p",
        "colab_type": "code",
        "colab": {}
      },
      "source": [
        "#7th question\n",
        "word_count = 0\n",
        "char_count = 0\n",
        "\n",
        "\n",
        "usr_input = input(\"Enter a string : \")\n",
        "\n",
        "split_string = usr_input.split()\n",
        "\n",
        "word_count = len(split_string)\n",
        "\n",
        "\n",
        "for word in split_string:\n",
        "    \n",
        "    char_count += len(word)\n",
        "print(\"Total words : {}\".format(word_count))\n",
        "print(\"Total characters : {}\".format(char_count))"
      ],
      "execution_count": null,
      "outputs": []
    },
    {
      "cell_type": "code",
      "metadata": {
        "id": "qaJgQeFI8R_K",
        "colab_type": "code",
        "colab": {}
      },
      "source": [
        "#8th question\n",
        "\n",
        "string = \"Python is awesome, isn't it?\"\n",
        "substring = \"is\"\n",
        "\n",
        "count = string.count(substring)\n",
        "\n",
        "# print count\n",
        "print(\"The count is:\", count)"
      ],
      "execution_count": null,
      "outputs": []
    }
  ]
}